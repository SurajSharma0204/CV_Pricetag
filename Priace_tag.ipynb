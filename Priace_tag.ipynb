{
 "cells": [
  {
   "cell_type": "markdown",
   "metadata": {},
   "source": [
    "### 4. Combined Approach with Grid Logic and Refinements\n",
    "Use Case: When you want a blend of flexibility and efficiency—splitting the image while handling edge cases like inconsistent dimensions or minor misalignment.\n",
    "\n",
    "Pros:\n",
    "\n",
    "Controlled splits with boundary checks to avoid exceeding image dimensions.\n",
    "Easy to implement for fixed layouts and reusable for similar images.\n",
    "Cons:\n",
    "\n",
    "Still assumes a general grid structure; less flexible than adaptive thresholding.\n",
    "Best for: Structured layouts where slight adjustments are needed.\n",
    "\n"
   ]
  },
  {
   "cell_type": "code",
   "execution_count": 5,
   "metadata": {},
   "outputs": [],
   "source": [
    "\n",
    "import cv2\n",
    "import numpy as np\n",
    "\n",
    "import os\n",
    "\n",
    "def split_price_tags(img_path, output_folder):\n",
    "    # Read the image\n",
    "    img = cv2.imread(img_path)\n",
    "    height, width, _ = img.shape\n",
    "    \n",
    "    # Number of rows and columns for splitting\n",
    "    rows = 6\n",
    "    cols = 3\n",
    "\n",
    "    # Calculate split height and width\n",
    "    split_height = np.ceil(height / rows).astype(int)\n",
    "    split_width = np.ceil(width / cols).astype(int)\n",
    "\n",
    "    print(f\"Image Dimensions: {height}x{width}, Split Dimensions: {split_height}x{split_width}\")\n",
    "\n",
    "    # Ensure the output folder exists\n",
    "    if not os.path.exists(output_folder):\n",
    "        os.makedirs(output_folder)\n",
    "\n",
    "    # Loop through rows and columns to crop\n",
    "    for row in range(rows):\n",
    "        for col in range(cols):\n",
    "            # Calculate crop coordinates\n",
    "            x1 = col * split_width\n",
    "            y1 = row * split_height\n",
    "            x2 = min(x1 + split_width, width)  # Ensure it doesn't exceed image width\n",
    "            y2 = min(y1 + split_height, height)  # Ensure it doesn't exceed image height\n",
    "\n",
    "            # Crop the region\n",
    "            price_tag = img[y1:y2, x1:x2]\n",
    "\n",
    "            # Save the cropped image\n",
    "            filename = f\"split_image_{row}_{col}.jpg\"\n",
    "            filepath = os.path.join(output_folder, filename)\n",
    "            cv2.imwrite(filepath, price_tag)\n",
    "\n",
    "            print(f\"Saved: {filepath}\")\n",
    "\n",
    "    print(f\"Cropping completed. Images saved in '{output_folder}'.\")\n",
    "\n"
   ]
  },
  {
   "cell_type": "code",
   "execution_count": 6,
   "metadata": {},
   "outputs": [],
   "source": [
    "image_path = r'C:\\Users\\Suraj\\OneDrive\\Desktop\\KNaik courses\\Computer VIsion\\CV_Assignments\\Image_Exract\\pricetagimage.jpg'\n",
    "output_folder = \"cropped_pricetags_images\""
   ]
  },
  {
   "cell_type": "code",
   "execution_count": 7,
   "metadata": {},
   "outputs": [
    {
     "name": "stdout",
     "output_type": "stream",
     "text": [
      "Image Dimensions: 990x700, Split Dimensions: 165x234\n",
      "Saved: cropped_pricetags_images\\split_image_0_0.jpg\n",
      "Saved: cropped_pricetags_images\\split_image_0_1.jpg\n",
      "Saved: cropped_pricetags_images\\split_image_0_2.jpg\n",
      "Saved: cropped_pricetags_images\\split_image_1_0.jpg\n",
      "Saved: cropped_pricetags_images\\split_image_1_1.jpg\n",
      "Saved: cropped_pricetags_images\\split_image_1_2.jpg\n",
      "Saved: cropped_pricetags_images\\split_image_2_0.jpg\n",
      "Saved: cropped_pricetags_images\\split_image_2_1.jpg\n",
      "Saved: cropped_pricetags_images\\split_image_2_2.jpg\n",
      "Saved: cropped_pricetags_images\\split_image_3_0.jpg\n",
      "Saved: cropped_pricetags_images\\split_image_3_1.jpg\n",
      "Saved: cropped_pricetags_images\\split_image_3_2.jpg\n",
      "Saved: cropped_pricetags_images\\split_image_4_0.jpg\n",
      "Saved: cropped_pricetags_images\\split_image_4_1.jpg\n",
      "Saved: cropped_pricetags_images\\split_image_4_2.jpg\n",
      "Saved: cropped_pricetags_images\\split_image_5_0.jpg\n",
      "Saved: cropped_pricetags_images\\split_image_5_1.jpg\n",
      "Saved: cropped_pricetags_images\\split_image_5_2.jpg\n",
      "Cropping completed. Images saved in 'cropped_pricetags_images'.\n"
     ]
    }
   ],
   "source": [
    "split_price_tags(image_path,output_folder)"
   ]
  },
  {
   "cell_type": "code",
   "execution_count": null,
   "metadata": {},
   "outputs": [],
   "source": []
  }
 ],
 "metadata": {
  "kernelspec": {
   "display_name": "cv_live",
   "language": "python",
   "name": "python3"
  },
  "language_info": {
   "codemirror_mode": {
    "name": "ipython",
    "version": 3
   },
   "file_extension": ".py",
   "mimetype": "text/x-python",
   "name": "python",
   "nbconvert_exporter": "python",
   "pygments_lexer": "ipython3",
   "version": "3.11.10"
  }
 },
 "nbformat": 4,
 "nbformat_minor": 2
}
